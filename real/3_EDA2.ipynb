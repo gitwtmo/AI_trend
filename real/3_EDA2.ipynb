{
 "cells": [
  {
   "cell_type": "markdown",
   "id": "c435c6d8",
   "metadata": {},
   "source": [
    "## 모듈 불러오기"
   ]
  },
  {
   "cell_type": "code",
   "execution_count": 1,
   "id": "e7a750ad",
   "metadata": {},
   "outputs": [],
   "source": [
    "import pandas as pd\n",
    "\n",
    "import nltk \n",
    "from nltk.corpus import stopwords \n",
    "from nltk.tokenize import word_tokenize\n",
    "\n",
    "from collections import Counter\n",
    "from collections import defaultdict\n",
    "\n",
    "import re\n",
    "\n",
    "from tqdm import tqdm\n"
   ]
  },
  {
   "cell_type": "markdown",
   "id": "85832110",
   "metadata": {},
   "source": [
    "### 5. paperswithcode dataset (크롤링)"
   ]
  },
  {
   "cell_type": "code",
   "execution_count": 36,
   "id": "c99b019d",
   "metadata": {
    "collapsed": true
   },
   "outputs": [
    {
     "data": {
      "text/plain": [
       "'\\n1. see all categories (click) \\n    기존 : (6,3) : general 제외, graph 예외처리 \\n    변경 : (4,3)클릭 위치 변경을 통한 예외를 없애줌 \\n<기존>\\nbody > div.container > div.container.content.content-buffer > div.infinite-container.featured-methods > div:nth-child(6) > a    \\n    \\n<변경>\\nbody > div.container > div.container.content.content-buffer > div.infinite-container.featured-methods > div:nth-child(4) > div > h4 > a\\nbody > div.container > div.container.content.content-buffer > div.infinite-container.featured-methods > div:nth-child(7) > div > h4 > a\\n\\n\\n2. method (고정값)\\nbody > div.container.content.content-buffer > div > div.title.browse-methods-title > div:nth-child(2) > div > h1\\n\\n\\n3. see all models (click)\\n    (3,3)\\n\\nbody > div.container.content.content-buffer > div > div.infinite-container.featured-methods > div:nth-child(3) > a\\n\\n4. categories (고정값)\\nbody > div.container.content.content-buffer > div.mobile-width > div.artefact-header > h1\\n\\n5. models\\n    (1,1) : category에 해당하는 모델이 없는 경우(예외 처리)\\n    #methodsTable > tbody > tr:nth-child(1) > td:nth-child(1) > div.method-image > a\\n    #methodsTable > tbody > tr:nth-child(2) > td:nth-child(1) > div.method-image > a\\n'"
      ]
     },
     "execution_count": 36,
     "metadata": {},
     "output_type": "execute_result"
    }
   ],
   "source": [
    "\n",
    "'''\n",
    "1. see all categories (click) \n",
    "    기존 : (6,3) : general 제외, graph 예외처리 \n",
    "    변경 : (4,3)클릭 위치 변경을 통한 예외를 없애줌 \n",
    "<기존>\n",
    "body > div.container > div.container.content.content-buffer > div.infinite-container.featured-methods > div:nth-child(6) > a    \n",
    "    \n",
    "<변경>\n",
    "body > div.container > div.container.content.content-buffer > div.infinite-container.featured-methods > div:nth-child(4) > div > h4 > a\n",
    "body > div.container > div.container.content.content-buffer > div.infinite-container.featured-methods > div:nth-child(7) > div > h4 > a\n",
    "\n",
    "\n",
    "2. method (고정값)\n",
    "body > div.container.content.content-buffer > div > div.title.browse-methods-title > div:nth-child(2) > div > h1\n",
    "\n",
    "\n",
    "3. see all models (click)\n",
    "    (3,3)\n",
    "\n",
    "body > div.container.content.content-buffer > div > div.infinite-container.featured-methods > div:nth-child(3) > a\n",
    "\n",
    "4. categories (고정값)\n",
    "body > div.container.content.content-buffer > div.mobile-width > div.artefact-header > h1\n",
    "\n",
    "5. models\n",
    "    (1,1) : category에 해당하는 모델이 없는 경우(예외 처리)\n",
    "    #methodsTable > tbody > tr:nth-child(1) > td:nth-child(1) > div.method-image > a\n",
    "    #methodsTable > tbody > tr:nth-child(2) > td:nth-child(1) > div.method-image > a\n",
    "'''"
   ]
  },
  {
   "cell_type": "markdown",
   "id": "3df4c2fd",
   "metadata": {},
   "source": [
    "- Main Code (주석 해제 후 사용)"
   ]
  },
  {
   "cell_type": "code",
   "execution_count": null,
   "id": "7fb54e62",
   "metadata": {},
   "outputs": [],
   "source": [
    "'''\n",
    "import time\n",
    "import csv\n",
    "from selenium import webdriver\n",
    "from selenium.webdriver.common.by import By\n",
    "from bs4 import BeautifulSoup \n",
    "from selenium.common.exceptions import NoSuchElementException\n",
    "\n",
    "driver = webdriver.Chrome()\n",
    "driver.get('https://paperswithcode.com/methods')\n",
    "data_list = []  \n",
    "html = driver.page_source\n",
    "soup = BeautifulSoup(html, 'html.parser')\n",
    "\n",
    "tmp1=4\n",
    "while True: # 1,2번   \n",
    "    try:\n",
    "        click1_selector = f'body > div.container > div.container.content.content-buffer > div.infinite-container.featured-methods > div:nth-child({tmp1}) > div > h4 > a'\n",
    "        temp_categories = driver.find_element(By.CSS_SELECTOR,click1_selector) #\n",
    "    except NoSuchElementException:       \n",
    "            break\n",
    "    driver.execute_script(\"arguments[0].click();\", temp_categories)\n",
    "    tmp1 +=3\n",
    "    time.sleep(1.5)\n",
    "    \n",
    "    # 클릭으로 인한 페이지 업데이트\n",
    "    html = driver.page_source\n",
    "    soup = BeautifulSoup(html, 'html.parser')\n",
    "    \n",
    "    method_selector = 'body > div.container.content.content-buffer > div > div.title.browse-methods-title > div:nth-child(2) > div > h1'\n",
    "    method_name = soup.select(method_selector)\n",
    "    if not method_name:\n",
    "        break\n",
    "    method = method_name[0].text.strip().replace('\\n','')\n",
    "    print('method: ',method)\n",
    "    \n",
    "    tmp2 = 3\n",
    "    while True: # 3,4번\n",
    "        try:\n",
    "            click2_selector = f'body > div.container.content.content-buffer > div > div.infinite-container.featured-methods > div:nth-child({tmp2}) > a'\n",
    "            temp_model = driver.find_element(By.CSS_SELECTOR,click2_selector)\n",
    "        except NoSuchElementException: \n",
    "            break\n",
    "        driver.execute_script(\"arguments[0].click();\", temp_model)\n",
    "        tmp2 += 3\n",
    "        time.sleep(1.5)\n",
    "        \n",
    "        # 페이지 업데이트\n",
    "        html = driver.page_source\n",
    "        soup = BeautifulSoup(html, 'html.parser')\n",
    "        \n",
    "        #here\n",
    "        category_selector = 'body > div.container.content.content-buffer > div.mobile-width > div.artefact-header > h1'\n",
    "        category_name = soup.select(category_selector)\n",
    "        if not category_name:\n",
    "            break\n",
    "        category = category_name[0].text.split(\"\\xa0\")[0].strip()\n",
    "        print('category: ',category)\n",
    "\n",
    "        model_list = []\n",
    "        tmp3 = 1\n",
    "        while True: # 5번\n",
    "            model_selector = f'#methodsTable > tbody > tr:nth-child({tmp3}) > td:nth-child(1) > div.method-image > a'\n",
    "            model_name = soup.select(model_selector) \n",
    "            if not model_name:\n",
    "                break\n",
    "            model = model_name[0].text.strip().replace('\\n', '')\n",
    "            model_list.append(model)\n",
    "            print(\"model: \",model)\n",
    "            tmp3 += 1\n",
    "            \n",
    "        data_list.append([method,category,', '.join(model_list)])\n",
    "        \n",
    "        driver.back()\n",
    "    driver.back()\n",
    "\n",
    "# 데이터를 CSV 파일로 저장\n",
    "with open('cw_paperswithcode.csv', 'w', newline='', encoding='utf-8') as csvfile:\n",
    "    csv_writer = csv.writer(csvfile)\n",
    "    csv_writer.writerow(['method', 'category', 'model'])  # 헤더 추가\n",
    "    csv_writer.writerows(data_list)  # 데이터 추가\n",
    "'''"
   ]
  },
  {
   "cell_type": "markdown",
   "id": "1e076385",
   "metadata": {},
   "source": [
    "- csv 구조 변경 (행열 변환)"
   ]
  },
  {
   "cell_type": "code",
   "execution_count": null,
   "id": "c0d16a44",
   "metadata": {},
   "outputs": [],
   "source": [
    "import csv\n",
    "\n",
    "# 입력 파일과 출력 파일 이름\\\n",
    "input_filename = r'C:\\Users\\ASUS\\Desktop\\coding\\FastCampus\\eda\\project\\vscode\\cw_paperswithcode.csv'\n",
    "output_filename = r'C:\\Users\\ASUS\\Desktop\\coding\\FastCampus\\eda\\project\\vscode\\paperswithcode.csv'\n",
    "# CSV 파일을 읽고 데이터를 리스트로 저장\n",
    "data = []\n",
    "with open(input_filename, 'r', newline='', encoding='utf-8') as csvfile:\n",
    "    csv_reader = csv.reader(csvfile)\n",
    "    for row in csv_reader:\n",
    "        data.append(row)\n",
    "\n",
    "# 데이터를 풀어서 저장할 새로운 리스트 생성\n",
    "unrolled_data = []\n",
    "for row in data:\n",
    "    method = row[0]\n",
    "    category = row[1]\n",
    "    models = row[2].split(', ')  # ,를 기준으로 model들을 분리\n",
    "    for model in models:\n",
    "        unrolled_data.append([method, category, model])\n",
    "\n",
    "# 새로운 CSV 파일로 데이터를 쓰기\n",
    "with open(output_filename, 'w', newline='', encoding='utf-8') as csvfile:\n",
    "    csv_writer = csv.writer(csvfile)\n",
    "    for row in unrolled_data:\n",
    "        csv_writer.writerow(row)"
   ]
  }
 ],
 "metadata": {
  "kernelspec": {
   "display_name": "Python 3 (ipykernel)",
   "language": "python",
   "name": "python3"
  },
  "language_info": {
   "codemirror_mode": {
    "name": "ipython",
    "version": 3
   },
   "file_extension": ".py",
   "mimetype": "text/x-python",
   "name": "python",
   "nbconvert_exporter": "python",
   "pygments_lexer": "ipython3",
   "version": "3.8.5"
  }
 },
 "nbformat": 4,
 "nbformat_minor": 5
}
